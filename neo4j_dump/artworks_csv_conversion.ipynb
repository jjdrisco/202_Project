{
 "cells": [
  {
   "cell_type": "code",
   "execution_count": null,
   "metadata": {},
   "outputs": [],
   "source": [
    "import pandas as pd\n",
    "import re\n",
    "import csv\n",
    "\n",
    "# File paths\n",
    "input_file = \"<YOUR NEO4J IMPORT PATH>\"\n",
    "output_file = \"<YOUR NEO4J EXPORT PATH>\"\n",
    "\n",
    "def clean_field(field):\n",
    "    if field is None or field.strip() == \"\":\n",
    "        return \"\"  # Keep empty fields as empty (not null)\n",
    "    \n",
    "    field = field.strip()  # Trim spaces\n",
    "    field = re.sub(r'\"\"', '\"', field)  # Replace double double-quotes\n",
    "    field = field.rstrip(\"\\\\\")  # Remove trailing backslashes\n",
    "    return field\n",
    "\n",
    "# Read and clean the CSV\n",
    "with open(input_file, \"r\", encoding=\"utf-8\", newline=\"\") as infile, open(output_file, \"w\", encoding=\"utf-8\", newline=\"\") as outfile:\n",
    "    reader = csv.reader(infile, quotechar='\"', delimiter=',', quoting=csv.QUOTE_MINIMAL, skipinitialspace=True)\n",
    "    writer = csv.writer(outfile, quotechar='\"', delimiter=',', quoting=csv.QUOTE_MINIMAL)\n",
    "\n",
    "    header = next(reader, None)  # Read header row\n",
    "    if header:\n",
    "        writer.writerow(header)  # Write header to new file\n",
    "\n",
    "    for row in reader:\n",
    "        # Ensure the row has the correct number of columns\n",
    "        if len(row) == len(header):\n",
    "            cleaned_row = [clean_field(field) for field in row]\n",
    "            writer.writerow(cleaned_row)\n",
    "\n",
    "print(f\" Fixed CSV saved as: {output_file}\")"
   ]
  }
 ],
 "metadata": {
  "kernelspec": {
   "display_name": "Python 3",
   "language": "python",
   "name": "python3"
  },
  "language_info": {
   "codemirror_mode": {
    "name": "ipython",
    "version": 3
   },
   "file_extension": ".py",
   "mimetype": "text/x-python",
   "name": "python",
   "nbconvert_exporter": "python",
   "pygments_lexer": "ipython3",
   "version": "3.11.9"
  }
 },
 "nbformat": 4,
 "nbformat_minor": 2
}
