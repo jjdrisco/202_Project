{
 "cells": [
  {
   "cell_type": "markdown",
   "metadata": {},
   "source": [
    "### \"How do major world events (e.g., elections, protests, cultural movements) impact the popularity of specific artists or artworks?\""
   ]
  },
  {
   "cell_type": "markdown",
   "metadata": {},
   "source": [
    "Step 1: Create artistic_influences and artist_trends tables in PostgreSQL"
   ]
  },
  {
   "cell_type": "markdown",
   "metadata": {},
   "source": [
    "Step 2: Query artist influences from Neo4j"
   ]
  },
  {
   "cell_type": "code",
   "execution_count": null,
   "metadata": {},
   "outputs": [],
   "source": [
    "from neo4j import GraphDatabase\n",
    "import psycopg2\n",
    "\n",
    "# Connect to Neo4j\n",
    "neo4j_driver = GraphDatabase.driver(\"bolt://localhost:7687\", auth=(\"user\", \"password\"))\n",
    "\n",
    "# Connect to Postgres\n",
    "conn = psycopg2.connect(\n",
    "    dbname=\"dbname\",\n",
    "    user=\"user\",\n",
    "    password=\"password\",\n",
    "    host=\"host\",\n",
    "    port=\"port\"\n",
    ")\n",
    "cursor = conn.cursor()\n",
    "\n",
    "# Fetch data from Neo4j\n",
    "query = \"\"\"\n",
    "MATCH (h:Artist)-[:INFLUENCED]->(m:Artist)\n",
    "RETURN h.name AS historical_artist, m.name AS modern_artist;\n",
    "\"\"\"\n",
    "with neo4j_driver.session() as session:\n",
    "    results = session.run(query)\n",
    "    for record in results:\n",
    "        cursor.execute(\n",
    "            \"INSERT INTO artistic_influences (historical_artist, modern_artist) VALUES (%s, %s)\",\n",
    "            (record[\"historical_artist\"], record[\"modern_artist\"])\n",
    "        )\n",
    "\n",
    "# Commit and close connections\n",
    "conn.commit()\n",
    "cursor.close()\n",
    "conn.close()\n",
    "neo4j_driver.close()"
   ]
  },
  {
   "cell_type": "markdown",
   "metadata": {},
   "source": [
    "Step 3: Fetch Redis data and import to Python"
   ]
  },
  {
   "cell_type": "code",
   "execution_count": null,
   "metadata": {},
   "outputs": [],
   "source": [
    "import redis\n",
    "\n",
    "# Connect to Redis\n",
    "r = redis.Redis(host='localhost', port=6379, decode_responses=True)\n",
    "\n",
    "# Connect to Postgres\n",
    "conn = psycopg2.connect(\n",
    "    dbname=\"dbname\",\n",
    "    user=\"user\",\n",
    "    password=\"password\",\n",
    "    host=\"host\",\n",
    "    port=\"port\"\n",
    ")\n",
    "cursor = conn.cursor()\n",
    "\n",
    "# List of artists whose trends we want to migrate to PostgreSQL\n",
    "artists = [\"Pablo Picasso\", \"Vincent van Gogh\"]  # Example list of artists\n",
    "\n",
    "# Iterate over each artist\n",
    "for artist in artists:\n",
    "    # Construct the Redis key for the artist's trends\n",
    "    key = f\"trends:{artist}\"\n",
    "    \n",
    "    # Fetch all trend data from Redis using zrangebyscore (get all data in the zset)\n",
    "    trends = r.zrangebyscore(key, \"-inf\", \"+inf\", withscores=True)\n",
    "    \n",
    "    # Iterate over the retrieved data (timestamp, popularity score)\n",
    "    for timestamp, popularity in trends:\n",
    "        # Convert timestamp from Redis (which is in float) to a PostgreSQL-friendly format\n",
    "        # Redis timestamps are float, PostgreSQL expects a timestamp type or UNIX timestamp.\n",
    "        \n",
    "        # If timestamp is in Redis as a UNIX timestamp (float), convert to datetime:\n",
    "        pg_cursor.execute(\n",
    "            \"INSERT INTO artist_trends (artist_name, event_date, search_popularity) \"\n",
    "            \"VALUES (%s, to_timestamp(%s), %s)\",\n",
    "            (artist, timestamp, popularity)\n",
    "        )\n",
    "\n",
    "conn.commit()\n",
    "cursor.close()\n",
    "conn.close()\n",
    "r.close()"
   ]
  },
  {
   "cell_type": "markdown",
   "metadata": {},
   "source": [
    "Step 5: Run final query in PostgreSQL"
   ]
  },
  {
   "cell_type": "markdown",
   "metadata": {},
   "source": [
    "### Do artists from the same nationality or cultural background trend together?"
   ]
  },
  {
   "cell_type": "markdown",
   "metadata": {},
   "source": [
    "Step 1: Fetch data from Google Trends API and store in Redis"
   ]
  },
  {
   "cell_type": "markdown",
   "metadata": {},
   "source": [
    "Step 2: Insert Redis data into PostgreSQL"
   ]
  },
  {
   "cell_type": "code",
   "execution_count": null,
   "metadata": {},
   "outputs": [],
   "source": [
    "# Connect to Postgres\n",
    "conn = psycopg2.connect(\n",
    "    dbname=\"dbname\",\n",
    "    user=\"user\",\n",
    "    password=\"password\",\n",
    "    host=\"host\",\n",
    "    port=\"port\"\n",
    ")\n",
    "cursor = conn.cursor()\n",
    "\n",
    "# Insert artist\n",
    "artist_name = \"Artist Name\"\n",
    "nationality = \"Nationality\"\n",
    "cursor.execute(\"INSERT INTO artists (name, nationality) VALUES (%s, %s)\", \n",
    "               (artist_name, nationality))\n",
    "conn.commit()\n",
    "\n",
    "# Insert trend data\n",
    "artist_id = cursor.lastrowid\n",
    "trend_date = \"2025-01-01\"\n",
    "trend_value = 10\n",
    "cursor.execute(\"INSERT INTO artist_trends (artist_id, date, trend_value) VALUES (%s, %s, %s)\", \n",
    "               (artist_id, trend_date, trend_value))\n",
    "conn.commit()\n",
    "\n",
    "cursor.close()\n",
    "conn.close()"
   ]
  },
  {
   "cell_type": "markdown",
   "metadata": {},
   "source": [
    "Step 3: Model relationships in Neo4j"
   ]
  },
  {
   "cell_type": "markdown",
   "metadata": {},
   "source": [
    "Step 4: Run PostgreSQL query to get list of artists who share the same nationality. Run Cypher queries in Neo4j to find artists with the same nationality."
   ]
  },
  {
   "cell_type": "markdown",
   "metadata": {},
   "source": [
    "Step 5: Compute the correlation coefficient / compare trend patterns."
   ]
  },
  {
   "cell_type": "markdown",
   "metadata": {},
   "source": [
    "### Does an artist passing away influence their popularity or the popularity of their art styles/previous collaborators?"
   ]
  },
  {
   "cell_type": "markdown",
   "metadata": {},
   "source": [
    "Step 1: Collect data using Google Trends API and store in Redis"
   ]
  },
  {
   "cell_type": "markdown",
   "metadata": {},
   "source": [
    "Step 2: Insert trend data into PostgreSQL"
   ]
  },
  {
   "cell_type": "code",
   "execution_count": null,
   "metadata": {},
   "outputs": [],
   "source": [
    "# Connect to Postgres\n",
    "conn = psycopg2.connect(\n",
    "    dbname=\"dbname\",\n",
    "    user=\"user\",\n",
    "    password=\"password\",\n",
    "    host=\"host\",\n",
    "    port=\"port\"\n",
    ")\n",
    "cursor = conn.cursor()\n",
    "\n",
    "# Insert artist data\n",
    "artist_name = \"Vincent van Gogh\"\n",
    "death_date = \"1890-07-29\"\n",
    "nationality = \"Dutch\"\n",
    "cursor.execute(\"INSERT INTO artists (name, death_date, nationality) VALUES (%s, %s, %s)\", \n",
    "               (artist_name, death_date, nationality))\n",
    "conn.commit()\n",
    "\n",
    "# Get the artist ID\n",
    "cursor.execute(\"SELECT id FROM artists WHERE name = %s\", (artist_name,))\n",
    "artist_id = cursor.fetchone()[0]\n",
    "\n",
    "# Insert trend data (example trend data)\n",
    "trend_data = {\"2000-01-01\": 10, \"2000-02-01\": 15}\n",
    "for date, trend_value in trend_data.items():\n",
    "    cursor.execute(\"INSERT INTO artist_trends (artist_id, date, trend_value) VALUES (%s, %s, %s)\",\n",
    "                   (artist_id, date, trend_value))\n",
    "conn.commit()\n",
    "\n",
    "# Close the connection\n",
    "cursor.close()\n",
    "conn.close()"
   ]
  },
  {
   "cell_type": "markdown",
   "metadata": {},
   "source": [
    "Step 3: Use Neo4j to model relationships and collaborations"
   ]
  },
  {
   "cell_type": "markdown",
   "metadata": {},
   "source": [
    "Step 4: Query the data to analyze trends and influences"
   ]
  },
  {
   "cell_type": "markdown",
   "metadata": {},
   "source": [
    "- Trend data before and after artist's death\n",
    "- Influence on collaborator's popularity\n",
    "- Trend changes in art styles"
   ]
  },
  {
   "cell_type": "markdown",
   "metadata": {},
   "source": [
    "Step 5: Use cypher queries in Neo4j to find the influence on collaborators and the trends before and after an artist's death"
   ]
  }
 ],
 "metadata": {
  "kernelspec": {
   "display_name": "Python 3",
   "language": "python",
   "name": "python3"
  },
  "language_info": {
   "codemirror_mode": {
    "name": "ipython",
    "version": 3
   },
   "file_extension": ".py",
   "mimetype": "text/x-python",
   "name": "python",
   "nbconvert_exporter": "python",
   "pygments_lexer": "ipython3",
   "version": "3.13.1"
  }
 },
 "nbformat": 4,
 "nbformat_minor": 2
}
