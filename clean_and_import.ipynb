{
 "cells": [
  {
   "cell_type": "code",
   "execution_count": null,
   "metadata": {},
   "outputs": [],
   "source": [
    "import pandas as pd\n",
    "import numpy as np\n",
    "import psycopg2\n",
    "\n",
    "# Load datasets\n",
    "moma_artists = pd.read_csv('Artists.csv')\n",
    "moma_artworks = pd.read_csv('Artworks.csv')\n",
    "painter_palette = pd.read_csv('PainterPalette.csv')\n",
    "wikidata = pd.read_csv('Total_Merged_Painters_Data.csv')"
   ]
  },
  {
   "cell_type": "markdown",
   "metadata": {},
   "source": [
    "Clean MOMA Artists dataset:"
   ]
  },
  {
   "cell_type": "code",
   "execution_count": null,
   "metadata": {},
   "outputs": [],
   "source": [
    "# Ensure ConstituentID is unique\n",
    "moma_artists = moma_artists.drop_duplicates(subset=['ConstituentID'])\n",
    "\n",
    "# Extract birth and death years from ArtistBio. Fill missing values and convert data types.\n",
    "moma_artists['birth_year'] = moma_artists['ArtistBio'].str.extract(r'(\\d{4})–').astype(float).fillna(0).astype(int)\n",
    "moma_artists['death_year'] = moma_artists['ArtistBio'].str.extract(r'–(\\d{4})').astype(float).fillna(0).astype(int)\n",
    "moma_artists['Nationality'] = moma_artists['Nationality'].fillna('Unknown')\n",
    "moma_artists['Gender'] = moma_artists['Gender'].fillna('Unknown')"
   ]
  },
  {
   "cell_type": "markdown",
   "metadata": {},
   "source": [
    "Clean MOMA Artworks dataset:"
   ]
  },
  {
   "cell_type": "code",
   "execution_count": null,
   "metadata": {},
   "outputs": [],
   "source": [
    "# Ensure artwork is unique\n",
    "moma_artworks = moma_artworks.drop_duplicates(subset=['ObjectID'], keep='first')\n",
    "moma_artworks = moma_artworks.drop_duplicates(subset=['Title'])\n",
    "\n",
    "# Convert ConstituentID column to string, split, explode, and convert to integers\n",
    "moma_artworks['ConstituentID'] = moma_artworks['ConstituentID'].astype(str).str.split(', ')\n",
    "moma_artworks = moma_artworks.explode('ConstituentID')\n",
    "moma_artworks['ConstituentID'] = pd.to_numeric(moma_artworks['ConstituentID'], errors='coerce').fillna(0).astype(int)\n",
    "\n",
    "# Filter out rows where ConstituentID is 0\n",
    "moma_artworks = moma_artworks[moma_artworks['ConstituentID'] != 0]\n",
    "\n",
    "# Extract start and end years from the date column\n",
    "moma_artworks['start_year'] = moma_artworks['Date'].str.extract(r'(\\d{4})').astype(float)  # Extract start year\n",
    "moma_artworks['end_year'] = moma_artworks['Date'].str.extract(r'-(\\d{2})').astype(float)  # Extract end year (last 2 digits)\n",
    "\n",
    "# Handle cases where the end year is only 2 digits (e.g., \"1976-77\")\n",
    "moma_artworks['start_year'] = moma_artworks['Date'].str.extract(r'(\\d{4})').astype(float).fillna(0).astype(int)\n",
    "moma_artworks['end_year'] = moma_artworks['Date'].str.extract(r'-(\\d{2})').astype(float)\n",
    "moma_artworks['end_year'] = (\n",
    "    moma_artworks['start_year'].astype(str).str[:2] + \n",
    "    moma_artworks['end_year'].astype(str).str.zfill(2)\n",
    ").fillna(moma_artworks['start_year'].astype(str))\n",
    "\n",
    "moma_artworks['start_year'] = pd.to_numeric(moma_artworks['start_year'], errors='coerce').fillna(0).astype(int)\n",
    "moma_artworks['end_year'] = pd.to_numeric(moma_artworks['end_year'], errors='coerce').fillna(0).astype(int)\n",
    "\n",
    "moma_artworks['Artist'] = moma_artworks['Artist'].fillna('Unknown')"
   ]
  },
  {
   "cell_type": "markdown",
   "metadata": {},
   "source": [
    "Clean PainterPalette dataset:"
   ]
  },
  {
   "cell_type": "code",
   "execution_count": null,
   "metadata": {},
   "outputs": [],
   "source": [
    "# Clean PainterPalette dataset\n",
    "columns_to_clean = [\n",
    "    'Nationality', 'citizenship', 'gender', 'styles', 'movement', 'birth_place', \n",
    "    'death_place', 'occupations', 'Influencedby', 'Influencedon', \n",
    "    'Pupils', 'Teachers', 'FriendsandCoworkers', 'Contemporary', 'PaintingSchool'\n",
    "]\n",
    "\n",
    "painter_palette[columns_to_clean] = painter_palette[columns_to_clean].fillna('Unknown')\n",
    "for col in ['styles', 'Nationality', 'Influencedby', 'Influencedon', 'Pupils', 'Teachers'\n",
    "            , 'FriendsandCoworkers', 'Contemporary', 'occupations']:\n",
    "    painter_palette[col] = painter_palette[col].str.split(',')"
   ]
  },
  {
   "cell_type": "markdown",
   "metadata": {},
   "source": [
    "Clean WikiData dataset:"
   ]
  },
  {
   "cell_type": "code",
   "execution_count": null,
   "metadata": {},
   "outputs": [],
   "source": [
    "# Clean WikiData dataset\n",
    "columns_to_clean = [\n",
    "    'Nationality', 'citizenship', 'gender', 'styles', 'movement', 'birth_place', \n",
    "    'death_place', 'occupations', 'Influencedby', 'Influencedon', \n",
    "    'Pupils', 'Teachers', 'FriendsandCoworkers', 'Contemporary', 'PaintingSchool'\n",
    "]\n",
    "\n",
    "wikidata[columns_to_clean] = wikidata[columns_to_clean].fillna('Unknown')\n",
    "for col in ['styles', 'Nationality', 'Influencedby', 'Influencedon', 'Pupils', 'Teachers'\n",
    "            , 'FriendsandCoworkers', 'Contemporary', 'occupations']:\n",
    "    wikidata[col] = wikidata[col].str.split(',')"
   ]
  },
  {
   "cell_type": "markdown",
   "metadata": {},
   "source": [
    "Merge datasets:"
   ]
  },
  {
   "cell_type": "code",
   "execution_count": null,
   "metadata": {},
   "outputs": [],
   "source": [
    "# Fill in PainterPalette with data from WikiData dataset\n",
    "\n",
    "artists_combined = pd.merge(\n",
    "    painter_palette, \n",
    "    wikidata, \n",
    "    left_on='artist', \n",
    "    right_on='artist_name', \n",
    "    how='left',\n",
    "    suffixes=('', '_wiki')\n",
    ")\n",
    "\n",
    "# List of columns to fill from the wikidata dataset\n",
    "columns_to_fill = ['Nationality', 'citizenship', 'gender', 'styles', 'movement', 'Art500k_Movements','birth_place', 'death_place', 'birth_year', 'death_year',\n",
    "                   'locations', 'FirstYear', 'LastYear', 'wikiart_pictures_count', 'styles_extended', 'locations_with_years', 'StylesCount', 'StylesYears', \n",
    "                   'occupations', 'PaintingsExhibitedAt', 'PaintingsExhibitedAtCount', 'PaintingSchool', 'Influencedby', 'Influencedon', 'Pupils', 'Teachers', \n",
    "                   'FriendsandCoworkers', 'Contemporary', 'Type']\n",
    "\n",
    "# Combine the columns to fill from both painter_palette and wikidata\n",
    "for col in columns_to_fill:\n",
    "    if col in artists_combined.columns and f'{col}_wiki' in artists_combined.columns:\n",
    "        # Fill missing values in the target column (from painter_palette) with the values from the wiki column\n",
    "        artists_combined[col] = artists_combined[col].combine_first(artists_combined[f'{col}_wiki'])\n",
    "    else:\n",
    "        print(f\"Warning: Column {col} or {col}_wiki not found in the merged dataset.\")\n",
    "\n",
    "# Drop the columns that were added from wikidata dataset to avoid duplication\n",
    "for col in columns_to_fill:\n",
    "    wiki_col = f'{col}_wiki'\n",
    "    if wiki_col in artists_combined.columns:\n",
    "        artists_combined.drop(columns=[wiki_col], inplace=True)"
   ]
  },
  {
   "cell_type": "code",
   "execution_count": null,
   "metadata": {},
   "outputs": [],
   "source": [
    "# Merge with MOMA Artists dataset\n",
    "artists_combined = pd.merge(\n",
    "    artists_combined, \n",
    "    moma_artists, \n",
    "    left_on='artist', \n",
    "    right_on='DisplayName', \n",
    "    how='left'\n",
    ")\n",
    "\n",
    "artists_combined['Nationality'] = artists_combined['Nationality_x']\n",
    "artists_combined = artists_combined.drop(columns=['Nationality_x', 'Nationality_y'])"
   ]
  },
  {
   "cell_type": "code",
   "execution_count": null,
   "metadata": {},
   "outputs": [],
   "source": [
    "# Merge with MOMA Artworks dataset\n",
    "artists_combined = pd.merge(\n",
    "    artists_combined, \n",
    "    moma_artworks, \n",
    "    left_on='artist', \n",
    "    right_on='Artist', \n",
    "    how='left'\n",
    ")"
   ]
  },
  {
   "cell_type": "code",
   "execution_count": null,
   "metadata": {},
   "outputs": [],
   "source": [
    "# List of columns to combine that have '_x' and '_y' versions\n",
    "columns_to_combine = ['birth_year', 'death_year', 'Nationality', 'Gender', 'ArtistBio', 'ConstituentID', 'BeginDate', 'EndDate']\n",
    "\n",
    "# Combine the '_x' and '_y' columns\n",
    "for col in columns_to_combine:\n",
    "    col_x = col + '_x'\n",
    "    col_y = col + '_y'\n",
    "    \n",
    "    # Ensure both columns exist in the dataframe\n",
    "    if col_x in artists_combined.columns and col_y in artists_combined.columns:\n",
    "        # Combine the columns (using _x values, and filling missing values from _y)\n",
    "        artists_combined[col] = artists_combined[col_x].combine_first(artists_combined[col_y])\n",
    "        \n",
    "        # Drop the original '_x' and '_y' columns after combining\n",
    "        artists_combined.drop(columns=[col_x, col_y], inplace=True)\n",
    "    else:\n",
    "        continue"
   ]
  },
  {
   "cell_type": "code",
   "execution_count": null,
   "metadata": {},
   "outputs": [],
   "source": [
    "pd.set_option('display.max_columns', None)\n",
    "pd.set_option('display.max_rows', None)\n",
    "\n",
    "artists_combined.head()\n",
    "\n",
    "artists_combined.to_csv('artists_combined.csv', index=False)"
   ]
  },
  {
   "cell_type": "markdown",
   "metadata": {},
   "source": [
    "Connect and insert into Postgres:"
   ]
  },
  {
   "cell_type": "code",
   "execution_count": null,
   "metadata": {},
   "outputs": [],
   "source": [
    "# Connect to Postgres\n",
    "conn = psycopg2.connect(\n",
    "    dbname=\"art\",\n",
    "    user=\"postgres\",\n",
    "    password=\"\",\n",
    "    host=\"localhost\",\n",
    "    port=\"5432\"\n",
    ")\n",
    "cursor = conn.cursor()"
   ]
  },
  {
   "cell_type": "code",
   "execution_count": null,
   "metadata": {},
   "outputs": [],
   "source": [
    "import pandas as pd\n",
    "\n",
    "# Iterate through artists_combined and insert into Artists table\n",
    "for _, row in artists_combined.iterrows():\n",
    "\n",
    "    # Check and clean year columns to ensure valid ranges\n",
    "    birth_year = row.get('birth_year', None)\n",
    "    death_year = row.get('death_year', None)\n",
    "    career_start_year = row.get('FirstYear', None)\n",
    "    career_end_year = row.get('LastYear', None)\n",
    "\n",
    "    # Skip rows where year columns NaN or too large\n",
    "    if pd.isna(birth_year) or birth_year > 2147483647:\n",
    "        continue  # Skip this row\n",
    "\n",
    "    if pd.isna(death_year) or death_year > 2147483647:\n",
    "        continue  # Skip this row\n",
    "\n",
    "    if pd.isna(career_start_year) or career_start_year > 2147483647:\n",
    "        continue  # Skip this row\n",
    "\n",
    "    if pd.isna(career_end_year) or career_end_year > 2147483647:\n",
    "        continue  # Skip this row\n",
    "\n",
    "    # Convert to int\n",
    "    birth_year = int(birth_year)\n",
    "    death_year = int(death_year)\n",
    "    career_start_year = int(career_start_year)\n",
    "    career_end_year = int(career_end_year)\n",
    "\n",
    "    artist_name = row['artist']\n",
    "    birth_place = row.get('birth_place', None)  # Use None if no value exists\n",
    "    death_place = row.get('death_place', None)\n",
    "    nationality = row.get('Nationality', None)\n",
    "    citizenship = row.get('citizenship', None)\n",
    "    gender = row.get('gender', None)\n",
    "\n",
    "    # Insert data into the Artists table\n",
    "    cursor.execute(\"\"\"\n",
    "        INSERT INTO Artists (\n",
    "            artist_name, birth_year, birth_place, death_place, nationality, \n",
    "            citizenship, gender, death_year, career_start_year, career_end_year\n",
    "        )\n",
    "        VALUES (%s, %s, %s, %s, %s, %s, %s, %s, %s, %s)\n",
    "        ON CONFLICT (artist_name, birth_year) DO NOTHING;\n",
    "    \"\"\", (\n",
    "        artist_name, birth_year, birth_place, death_place, nationality, \n",
    "        citizenship, gender, death_year, career_start_year, career_end_year\n",
    "    ))\n"
   ]
  },
  {
   "cell_type": "code",
   "execution_count": null,
   "metadata": {},
   "outputs": [],
   "source": [
    "# Extract unique occupations, flatten lists\n",
    "unique_occupations = set()\n",
    "\n",
    "for occupations in artists_combined['occupations'].dropna():\n",
    "    if isinstance(occupations, list):  # If stored as a list\n",
    "        unique_occupations.update(occupations)\n",
    "    else:\n",
    "        unique_occupations.add(occupations)  # If single value\n",
    "\n",
    "# Insert unique occupations into the Occupations table\n",
    "for occupation in unique_occupations:\n",
    "    cursor.execute(\"\"\"\n",
    "        INSERT INTO Occupations (occupation_name)\n",
    "        VALUES (%s)\n",
    "        ON CONFLICT (occupation_name) DO NOTHING;\n",
    "    \"\"\", (occupation,))"
   ]
  },
  {
   "cell_type": "code",
   "execution_count": null,
   "metadata": {},
   "outputs": [],
   "source": [
    "# Iterate over each row in the DataFrame\n",
    "for _, row in artists_combined.iterrows():\n",
    "    artist_name = row.get('artist', None)\n",
    "    birth_year = row.get('birth_year', None)\n",
    "\n",
    "    # Skip if birth_year is NaN, too large, or artist_name is missing\n",
    "    if pd.isna(artist_name) or pd.isna(birth_year) or birth_year > 2147483647:\n",
    "        continue\n",
    "\n",
    "    birth_year = int(birth_year)  # Convert birth_year to int\n",
    "\n",
    "    # Ensure the artist exists in Artists table before inserting occupations\n",
    "    if (artist_name, birth_year) not in existing_artists:\n",
    "        continue  # Skip this row if artist doesn't exist in Artists table\n",
    "\n",
    "    # Extract occupations from row\n",
    "    occupations = row.get('occupations', None)\n",
    "    unique_occupations = set()\n",
    "\n",
    "    # Check if occupations is not NaN and handle different cases for list-like or single value\n",
    "    if pd.notna(occupations):  # Check if occupations exists (and isn't NaN)\n",
    "        if isinstance(occupations, str):  # If occupations is a single string\n",
    "            unique_occupations.update(occupations.split(', '))  # Split string into list\n",
    "        elif isinstance(occupations, list):  # If it's a list of occupations\n",
    "            unique_occupations.update(occupations)\n",
    "        elif isinstance(occupations, np.ndarray):  # If it's a numpy array\n",
    "            # Convert the numpy array to a list and add to unique_occupations\n",
    "            unique_occupations.update(occupations.tolist())\n",
    "        else:  # If it's another type (e.g., float or other), convert it to string and add\n",
    "            unique_occupations.add(str(occupations))\n",
    "\n",
    "    # Insert valid occupations into the Artist_Occupations table\n",
    "    for occupation in unique_occupations:\n",
    "        cursor.execute(\"\"\"\n",
    "            INSERT INTO Artist_Occupations (artist_name, birth_year, occupation_name)\n",
    "            VALUES (%s, %s, %s)\n",
    "            ON CONFLICT (artist_name, birth_year, occupation_name) DO NOTHING;\n",
    "        \"\"\", (artist_name, birth_year, occupation))"
   ]
  },
  {
   "cell_type": "markdown",
   "metadata": {},
   "source": [
    "Commit and close the connection:"
   ]
  },
  {
   "cell_type": "code",
   "execution_count": null,
   "metadata": {},
   "outputs": [],
   "source": [
    "print(artists_combined.columns.tolist())"
   ]
  },
  {
   "cell_type": "code",
   "execution_count": null,
   "metadata": {},
   "outputs": [],
   "source": [
    "# Commit changes\n",
    "conn.commit()\n",
    "\n",
    "# Close the connection\n",
    "cursor.close()\n",
    "conn.close()"
   ]
  }
 ],
 "metadata": {
  "kernelspec": {
   "display_name": "Python 3",
   "language": "python",
   "name": "python3"
  },
  "language_info": {
   "codemirror_mode": {
    "name": "ipython",
    "version": 3
   },
   "file_extension": ".py",
   "mimetype": "text/x-python",
   "name": "python",
   "nbconvert_exporter": "python",
   "pygments_lexer": "ipython3",
   "version": "3.13.1"
  }
 },
 "nbformat": 4,
 "nbformat_minor": 2
}
