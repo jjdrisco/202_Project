{
 "cells": [
  {
   "cell_type": "code",
   "execution_count": null,
   "metadata": {},
   "outputs": [],
   "source": [
    "import pandas as pd\n",
    "import numpy as np\n",
    "import psycopg2\n",
    "\n",
    "# Load datasets\n",
    "moma_artists = pd.read_csv('Artists.csv')\n",
    "moma_artworks = pd.read_csv('Artworks.csv')\n",
    "painter_palette = pd.read_csv('PainterPalette.csv')"
   ]
  },
  {
   "cell_type": "code",
   "execution_count": 2,
   "metadata": {},
   "outputs": [
    {
     "data": {
      "text/plain": [
       "ConstituentID        0\n",
       "DisplayName          0\n",
       "ArtistBio         2205\n",
       "Nationality       2499\n",
       "Gender            3276\n",
       "BeginDate            0\n",
       "EndDate              0\n",
       "Wiki QID         12420\n",
       "ULAN             12736\n",
       "dtype: int64"
      ]
     },
     "execution_count": 2,
     "metadata": {},
     "output_type": "execute_result"
    }
   ],
   "source": [
    "moma_artists.isna().sum()"
   ]
  },
  {
   "cell_type": "code",
   "execution_count": 3,
   "metadata": {},
   "outputs": [
    {
     "data": {
      "text/plain": [
       "Title                     48\n",
       "Artist                  1269\n",
       "ConstituentID           1269\n",
       "ArtistBio               6748\n",
       "Nationality             1269\n",
       "BeginDate               1269\n",
       "EndDate                 1269\n",
       "Gender                  1269\n",
       "Date                    2021\n",
       "Medium                  9250\n",
       "Dimensions              8641\n",
       "CreditLine              1545\n",
       "AccessionNumber            0\n",
       "Classification             0\n",
       "Department                 0\n",
       "DateAcquired            6750\n",
       "Cataloged                  0\n",
       "ObjectID                   0\n",
       "URL                    57349\n",
       "ImageURL               66468\n",
       "OnView                156577\n",
       "Circumference (cm)    157741\n",
       "Depth (cm)            139633\n",
       "Diameter (cm)         156351\n",
       "Height (cm)            29384\n",
       "Length (cm)           157028\n",
       "Weight (kg)           157454\n",
       "Width (cm)             30242\n",
       "Seat Height (cm)      157751\n",
       "Duration (sec.)       155795\n",
       "dtype: int64"
      ]
     },
     "execution_count": 3,
     "metadata": {},
     "output_type": "execute_result"
    }
   ],
   "source": [
    "moma_artworks.isna().sum()"
   ]
  },
  {
   "cell_type": "code",
   "execution_count": 4,
   "metadata": {},
   "outputs": [
    {
     "data": {
      "text/plain": [
       "artist                           0\n",
       "Nationality                   7934\n",
       "citizenship                   3476\n",
       "gender                         426\n",
       "styles                        7159\n",
       "movement                      7159\n",
       "Art500k_Movements             8013\n",
       "birth_place                   1565\n",
       "death_place                   3562\n",
       "birth_year                     692\n",
       "death_year                    2606\n",
       "FirstYear                     3161\n",
       "LastYear                      3161\n",
       "wikiart_pictures_count        7159\n",
       "locations                       93\n",
       "locations_with_years            93\n",
       "styles_extended               7159\n",
       "StylesCount                   7786\n",
       "StylesYears                   8012\n",
       "occupations                    255\n",
       "PaintingsExhibitedAt          6318\n",
       "PaintingsExhibitedAtCount     6318\n",
       "PaintingSchool                9440\n",
       "Influencedby                  9889\n",
       "Influencedon                 10058\n",
       "Pupils                       10202\n",
       "Teachers                     10182\n",
       "FriendsandCoworkers          10016\n",
       "Contemporary                  3853\n",
       "ArtMovement                   8837\n",
       "Type                          9365\n",
       "dtype: int64"
      ]
     },
     "execution_count": 4,
     "metadata": {},
     "output_type": "execute_result"
    }
   ],
   "source": [
    "painter_palette.isna().sum()"
   ]
  },
  {
   "cell_type": "code",
   "execution_count": 5,
   "metadata": {},
   "outputs": [
    {
     "name": "stdout",
     "output_type": "stream",
     "text": [
      "10361\n"
     ]
    }
   ],
   "source": [
    "print(len(painter_palette.index))"
   ]
  },
  {
   "cell_type": "markdown",
   "metadata": {},
   "source": [
    "Clean MOMA Artists dataset:"
   ]
  },
  {
   "cell_type": "code",
   "execution_count": 6,
   "metadata": {},
   "outputs": [],
   "source": [
    "# Ensure ConstituentID is unique\n",
    "moma_artists = moma_artists.drop_duplicates(subset=['ConstituentID'])\n",
    "\n",
    "# Extract birth and death years from ArtistBio. Fill missing values and convert data types.\n",
    "moma_artists['birth_year'] = moma_artists['ArtistBio'].str.extract(r'(\\d{4})–').astype(float).fillna(0).astype(int)\n",
    "moma_artists['death_year'] = moma_artists['ArtistBio'].str.extract(r'–(\\d{4})').astype(float).fillna(0).astype(int)\n",
    "moma_artists['Nationality'] = moma_artists['Nationality'].fillna('Unknown')\n",
    "moma_artists['Gender'] = moma_artists['Gender'].fillna('Unknown')"
   ]
  },
  {
   "cell_type": "markdown",
   "metadata": {},
   "source": [
    "Clean MOMA Artworks dataset:"
   ]
  },
  {
   "cell_type": "code",
   "execution_count": 7,
   "metadata": {},
   "outputs": [],
   "source": [
    "# Ensure artwork is unique\n",
    "moma_artworks = moma_artworks.drop_duplicates(subset=['ObjectID'], keep='first')\n",
    "moma_artworks = moma_artworks.drop_duplicates(subset=['Title'])\n",
    "\n",
    "# Convert ConstituentID column to string, split, explode, and convert to integers\n",
    "moma_artworks['ConstituentID'] = moma_artworks['ConstituentID'].astype(str).str.split(', ')\n",
    "moma_artworks = moma_artworks.explode('ConstituentID')\n",
    "moma_artworks['ConstituentID'] = pd.to_numeric(moma_artworks['ConstituentID'], errors='coerce').fillna(0).astype(int)\n",
    "\n",
    "# Filter out rows where ConstituentID is 0\n",
    "moma_artworks = moma_artworks[moma_artworks['ConstituentID'] != 0]\n",
    "\n",
    "# Extract start and end years from the date column\n",
    "moma_artworks['start_year'] = moma_artworks['Date'].str.extract(r'(\\d{4})').astype(float)  # Extract start year\n",
    "moma_artworks['end_year'] = moma_artworks['Date'].str.extract(r'-(\\d{2})').astype(float)  # Extract end year (last 2 digits)\n",
    "\n",
    "# Handle cases where the end year is only 2 digits (e.g., \"1976-77\")\n",
    "moma_artworks['start_year'] = moma_artworks['Date'].str.extract(r'(\\d{4})').astype(float).fillna(0).astype(int)\n",
    "moma_artworks['end_year'] = moma_artworks['Date'].str.extract(r'-(\\d{2})').astype(float)\n",
    "moma_artworks['end_year'] = (\n",
    "    moma_artworks['start_year'].astype(str).str[:2] + \n",
    "    moma_artworks['end_year'].astype(str).str.zfill(2)\n",
    ").fillna(moma_artworks['start_year'].astype(str))\n",
    "\n",
    "moma_artworks['start_year'] = pd.to_numeric(moma_artworks['start_year'], errors='coerce').fillna(0).astype(int)\n",
    "moma_artworks['end_year'] = pd.to_numeric(moma_artworks['end_year'], errors='coerce').fillna(0).astype(int)\n",
    "\n",
    "moma_artworks['Artist'] = moma_artworks['Artist'].fillna('Unknown')"
   ]
  },
  {
   "cell_type": "markdown",
   "metadata": {},
   "source": [
    "Clean PainterPalette dataset:"
   ]
  },
  {
   "cell_type": "code",
   "execution_count": 8,
   "metadata": {},
   "outputs": [],
   "source": [
    "# Clean PainterPalette dataset\n",
    "columns_to_clean = [\n",
    "    'Nationality', 'citizenship', 'gender', 'styles', 'movement', 'birth_place', \n",
    "    'death_place', 'occupations', 'Influencedby', 'Influencedon', \n",
    "    'Pupils', 'Teachers', 'FriendsandCoworkers', 'Contemporary', 'PaintingSchool'\n",
    "]\n",
    "\n",
    "painter_palette[columns_to_clean] = painter_palette[columns_to_clean].fillna('Unknown')\n",
    "for col in ['styles', 'Nationality', 'Influencedby', 'Influencedon', 'Pupils', 'Teachers'\n",
    "            , 'FriendsandCoworkers', 'Contemporary', 'occupations']:\n",
    "    painter_palette[col] = painter_palette[col].str.split(',')"
   ]
  },
  {
   "cell_type": "markdown",
   "metadata": {},
   "source": [
    "Use psycopg2 to connect to PostgreSQL DB:"
   ]
  },
  {
   "cell_type": "code",
   "execution_count": 9,
   "metadata": {},
   "outputs": [],
   "source": [
    "# Merge MOMA Artists and PainterPalette datasets\n",
    "artists_combined = pd.merge(\n",
    "    moma_artists, \n",
    "    painter_palette, \n",
    "    left_on='DisplayName', \n",
    "    right_on='artist', \n",
    "    how='left'\n",
    ")\n",
    "\n",
    "artists_combined['Nationality'] = artists_combined['Nationality_x']\n",
    "artists_combined = artists_combined.drop(columns=['Nationality_x', 'Nationality_y'])"
   ]
  },
  {
   "cell_type": "code",
   "execution_count": null,
   "metadata": {},
   "outputs": [],
   "source": [
    "# Connect to Postgres\n",
    "conn = psycopg2.connect(\n",
    "    dbname=\"art\",\n",
    "    user=\"postgres\",\n",
    "    password=\"\",\n",
    "    host=\"localhost\",\n",
    "    port=\"5432\"\n",
    ")\n",
    "cursor = conn.cursor()"
   ]
  },
  {
   "cell_type": "code",
   "execution_count": 155,
   "metadata": {},
   "outputs": [],
   "source": [
    "# Insert into Artists table\n",
    "for _, row in artists_combined.iterrows():\n",
    "    cursor.execute(\"\"\"\n",
    "        INSERT INTO Artists (artist_id, display_name, nationality, gender, birth_year, death_year)\n",
    "        VALUES (%s, %s, %s, %s, %s, %s)\n",
    "    \"\"\", (\n",
    "        row['ConstituentID'],\n",
    "        row['DisplayName'],\n",
    "        row.get('Nationality', 'Unknown'),  # Use the merged 'Nationality' column\n",
    "        row.get('Gender', 'Unknown'),\n",
    "        row.get('birth_year_x', 0),  # Ensure you're using the correct birth year column\n",
    "        row.get('death_year_x', 0)   # Ensure you're using the correct death year column\n",
    "    ))"
   ]
  },
  {
   "cell_type": "code",
   "execution_count": 156,
   "metadata": {},
   "outputs": [],
   "source": [
    "moma_artworks = moma_artworks.drop_duplicates(subset=['ObjectID'], keep='first')\n",
    "\n",
    "# Insert into Artworks table\n",
    "for _, row in moma_artworks.iterrows():\n",
    "    cursor.execute(\"\"\"\n",
    "        INSERT INTO Artworks (artwork_id, title, artist_id, artwork_start_date, medium)\n",
    "        VALUES (%s, %s, %s, %s, %s)\n",
    "    \"\"\", (\n",
    "        row['ObjectID'],\n",
    "        row['Title'],\n",
    "        row['ConstituentID'],\n",
    "        row['start_year'],\n",
    "        row['Medium'],\n",
    "    ))"
   ]
  },
  {
   "cell_type": "code",
   "execution_count": 157,
   "metadata": {},
   "outputs": [],
   "source": [
    "# Insert into Movements table\n",
    "unique_movements = pd.DataFrame(painter_palette['movement'].unique(), columns=['movement_name'])\n",
    "for _, row in unique_movements.iterrows():\n",
    "    cursor.execute(\"\"\"\n",
    "        INSERT INTO Movements (name)\n",
    "        VALUES (%s)\n",
    "    \"\"\", (row['movement_name'],))"
   ]
  },
  {
   "cell_type": "code",
   "execution_count": 158,
   "metadata": {},
   "outputs": [],
   "source": [
    "# Insert into Artist_Movements table (mapping artist to their movements)\n",
    "for _, row in artists_combined.iterrows():\n",
    "    movement = row['movement']\n",
    "    # Replace NaN with an empty string\n",
    "    if pd.isna(movement):\n",
    "        movement = ''\n",
    "    if isinstance(movement, str) and movement != '':\n",
    "        movement_ids = []\n",
    "        for movement in movement.split(','):\n",
    "            movement = movement.strip()\n",
    "            cursor.execute(\"SELECT movement_id FROM Movements WHERE name = %s\", (movement,))\n",
    "            movement_id = cursor.fetchone()\n",
    "            if movement_id:\n",
    "                movement_ids.append(movement_id[0])\n",
    "        for movement_id in movement_ids:\n",
    "            cursor.execute(\"\"\"\n",
    "                INSERT INTO Artist_Movements (artist_id, movement_id)\n",
    "                VALUES (%s, %s)\n",
    "            \"\"\", (row['ConstituentID'], movement_id))\n",
    "    else:\n",
    "        continue"
   ]
  },
  {
   "cell_type": "code",
   "execution_count": 159,
   "metadata": {},
   "outputs": [],
   "source": [
    "# Insert into Styles table\n",
    "unique_styles = pd.DataFrame(painter_palette['styles'].explode().unique(), columns=['style_name'])\n",
    "for _, row in unique_styles.iterrows():\n",
    "    cursor.execute(\"\"\"\n",
    "        INSERT INTO Styles (name)\n",
    "        VALUES (%s)\n",
    "    \"\"\", (row['style_name'],))"
   ]
  },
  {
   "cell_type": "code",
   "execution_count": null,
   "metadata": {},
   "outputs": [],
   "source": [
    "# Convert non-list entries into a list\n",
    "artists_combined['styles'] = artists_combined['styles'].apply(lambda x: x if isinstance(x, list) else [x] if pd.notna(x) else [])\n",
    "\n",
    "# Iterate through rows and insert into the Artist_Styles table\n",
    "for _, row in artists_combined.iterrows():\n",
    "    # Check if the 'styles' column is empty or contains \"Unknown\" or any NaN\n",
    "    if not row['styles'] or \"Unknown\" in row['styles']:\n",
    "        continue  # Skip this row if it has no styles or \"Unknown\"\n",
    "    \n",
    "    # Iterate through styles and insert into Artist_Styles\n",
    "    for style in row['styles']:\n",
    "        if pd.isna(style) or style == \"NaN\":\n",
    "            continue  # Skip invalid style values\n",
    "        \n",
    "        # Execute query to get the style_id from the Styles table\n",
    "        cursor.execute(\"SELECT style_id FROM Styles WHERE name = %s\", (style,))\n",
    "        style_id = cursor.fetchone()\n",
    "        if style_id:\n",
    "            style_id = style_id[0]  # Extract style_id\n",
    "            cursor.execute(\"\"\"\n",
    "                INSERT INTO Artist_Styles (artist_id, style_id)\n",
    "                VALUES (%s, %s)\n",
    "            \"\"\", (row['ConstituentID'], style_id))"
   ]
  },
  {
   "cell_type": "code",
   "execution_count": null,
   "metadata": {},
   "outputs": [],
   "source": [
    "# Combine 'birth_place' and 'death_place' and get unique locations\n",
    "unique_locations = pd.DataFrame(pd.concat([painter_palette['birth_place'], painter_palette['death_place']]).unique(), columns=['location_name'])\n",
    "\n",
    "# Insert into Locations table\n",
    "for _, row in unique_locations.iterrows():\n",
    "    cursor.execute(\"\"\"\n",
    "        INSERT INTO Locations (name)\n",
    "        VALUES (%s)\n",
    "    \"\"\", (row['location_name'],))"
   ]
  },
  {
   "cell_type": "code",
   "execution_count": null,
   "metadata": {},
   "outputs": [],
   "source": [
    "# Insert into Artist_Locations table\n",
    "for _, row in artists_combined.iterrows():\n",
    "    location_ids = []\n",
    "    # Replace NaNs with empty string\n",
    "    for location in [row['birth_place'], row['death_place']]:\n",
    "        if pd.isna(location):\n",
    "            location = ''\n",
    "        \n",
    "        # Check if location exists in Locations table\n",
    "        cursor.execute(\"SELECT location_id FROM Locations WHERE name = %s\", (location,))\n",
    "        location_id = cursor.fetchone()\n",
    "        \n",
    "        # If location_id is found, append it to location_ids list\n",
    "        if location_id:\n",
    "            location_ids.append(location_id[0])\n",
    "    \n",
    "    # Insert only if combination of artist_id and location_id doesn't already exist\n",
    "    for location_id in location_ids:\n",
    "        cursor.execute(\"\"\"\n",
    "            SELECT 1 FROM Artist_Locations WHERE artist_id = %s AND location_id = %s\n",
    "        \"\"\", (row['ConstituentID'], location_id))\n",
    "        \n",
    "        if not cursor.fetchone():\n",
    "            cursor.execute(\"\"\"\n",
    "                INSERT INTO Artist_Locations (artist_id, location_id)\n",
    "                VALUES (%s, %s)\n",
    "            \"\"\", (row['ConstituentID'], location_id))"
   ]
  },
  {
   "cell_type": "code",
   "execution_count": null,
   "metadata": {},
   "outputs": [],
   "source": [
    "# Convert non-list entries into a list\n",
    "artists_combined['Influencedby'] = artists_combined['Influencedby'].apply(lambda x: x if isinstance(x, list) else [x] if pd.notna(x) else [])\n",
    "\n",
    "# Iterate through rows and insert into Influences table\n",
    "for _, row in artists_combined.iterrows():\n",
    "    # Check if 'Influencedby' column is empty or contains \"Unknown\" or NaN\n",
    "    if not row['Influencedby'] or \"Unknown\" in row['Influencedby']:\n",
    "        continue  # Skip this row if it has nulls or \"Unknown\"\n",
    "    \n",
    "    # Iterate through Influencedby and insert into Influences\n",
    "    for influencer in row['Influencedby']:\n",
    "        if pd.isna(influencer) or influencer == \"NaN\" or influencer == \"Unknown\":\n",
    "            continue  # Skip invalid influencer values\n",
    "        \n",
    "        # Get influencer's ID from Artists table\n",
    "        cursor.execute(\"SELECT artist_id FROM Artists WHERE display_name = %s\", (influencer,))\n",
    "        influencer_id = cursor.fetchone()\n",
    "        \n",
    "        if influencer_id:\n",
    "            influencer_id = influencer_id[0]  # Extract influencer_id\n",
    "            \n",
    "            # Insert into Influences table\n",
    "            cursor.execute(\"\"\"\n",
    "                INSERT INTO Influences (influencer_id, influenced_id)\n",
    "                VALUES (%s, %s)\n",
    "            \"\"\", (influencer_id, row['ConstituentID']))"
   ]
  },
  {
   "cell_type": "code",
   "execution_count": null,
   "metadata": {},
   "outputs": [],
   "source": [
    "# Convert non-list entries into list\n",
    "artists_combined['FriendsandCoworkers'] = artists_combined['FriendsandCoworkers'].apply(\n",
    "    lambda x: x if isinstance(x, list) else [x] if pd.notna(x) else []\n",
    ")\n",
    "\n",
    "# Iterate through rows and insert into Friends table\n",
    "for _, row in artists_combined.iterrows():\n",
    "    # Check if 'FriendsandCoworkers' column is empty or contains NaN/invalid values\n",
    "    if not row['FriendsandCoworkers'] or \"Unknown\" in row['FriendsandCoworkers']:\n",
    "        continue  # Skip if no friends/coworkers or contains \"Unknown\"\n",
    "    \n",
    "    # Iterate through Friends and insert into Friends table\n",
    "    for friend in row['FriendsandCoworkers']:\n",
    "        if pd.isna(friend) or friend == \"NaN\" or friend == \"Unknown\":\n",
    "            continue  # Skip invalid friend values\n",
    "        \n",
    "        # Get artist_id of current artist\n",
    "        artist_id = row['ConstituentID']\n",
    "        \n",
    "        # Get 'artist_id' of friend from Artists table\n",
    "        cursor.execute(\"SELECT artist_id FROM Artists WHERE display_name = %s\", (friend,))\n",
    "        friend_id = cursor.fetchone()\n",
    "        \n",
    "        if friend_id:\n",
    "            friend_id = friend_id[0]  # Extract friend's artist_id\n",
    "            \n",
    "            # Ensure pair is inserted only once\n",
    "            if artist_id < friend_id:\n",
    "                artist1_id, artist2_id = artist_id, friend_id\n",
    "            else:\n",
    "                artist1_id, artist2_id = friend_id, artist_id\n",
    "            \n",
    "            # Check if pair already exists in Friends table to avoid duplicates\n",
    "            cursor.execute(\"\"\"\n",
    "                SELECT 1 FROM Friends WHERE artist1_id = %s AND artist2_id = %s\n",
    "            \"\"\", (artist1_id, artist2_id))\n",
    "            existing_friend = cursor.fetchone()\n",
    "            \n",
    "            if not existing_friend:  # Only insert if the pair doesn't already exist\n",
    "                cursor.execute(\"\"\"\n",
    "                    INSERT INTO Friends (artist1_id, artist2_id)\n",
    "                    VALUES (%s, %s)\n",
    "                \"\"\", (artist1_id, artist2_id))"
   ]
  },
  {
   "cell_type": "code",
   "execution_count": null,
   "metadata": {},
   "outputs": [],
   "source": [
    "import pandas as pd\n",
    "\n",
    "# Convert non-list entries into list\n",
    "painter_palette['PaintingsExhibitedAt'] = painter_palette['PaintingsExhibitedAt'].apply(lambda x: x if isinstance(x, list) else [x] if pd.notna(x) else [])\n",
    "\n",
    "# Iterate through rows and insert into Exhibitions table\n",
    "for _, row in painter_palette.iterrows():\n",
    "    for exhibition in row['PaintingsExhibitedAt']:\n",
    "        # Skip if exhibition \"Unknown\" or invalid\n",
    "        if pd.isna(exhibition) or exhibition == \"Unknown\":\n",
    "            continue\n",
    "\n",
    "        # Get exhibition name, location, and year\n",
    "        exhibition_name = exhibition.strip()\n",
    "        location = row['locations']  # Ensure this column contains the correct exhibition location(s)\n",
    "        year = row['FirstYear']  # Assuming 'FirstYear' column contains the year of exhibition\n",
    "        painting_count = row['PaintingsExhibitedAtCount']\n",
    "        \n",
    "        # If location is NaN or None, skip\n",
    "        if pd.isna(location) or location is None:\n",
    "            continue\n",
    "\n",
    "        # If multiple locations, choose the first\n",
    "        location_id = None\n",
    "        if isinstance(location, list):\n",
    "            for loc in location:\n",
    "                loc = loc.strip()\n",
    "                cursor.execute(\"SELECT location_id FROM Locations WHERE name = %s\", (loc,))\n",
    "                location_id_result = cursor.fetchone()\n",
    "                if location_id_result:\n",
    "                    location_id = location_id_result[0]  # Get the first matching location_id\n",
    "                    break\n",
    "        else:\n",
    "            location = location.strip()\n",
    "            cursor.execute(\"SELECT location_id FROM Locations WHERE name = %s\", (location,))\n",
    "            location_id_result = cursor.fetchone()\n",
    "            if location_id_result:\n",
    "                location_id = location_id_result[0]  # Get location_id for the location\n",
    "\n",
    "        # If no location found, skip\n",
    "        if location_id is None:\n",
    "            continue\n",
    "\n",
    "        # Insert exhibition into the Exhibitions table\n",
    "        cursor.execute(\"\"\"\n",
    "            INSERT INTO Exhibitions (exhibition_name, location_id, year, painting_count)\n",
    "            VALUES (%s, %s, %s, %s)\n",
    "        \"\"\", (exhibition_name, location_id, year, painting_count))"
   ]
  },
  {
   "cell_type": "markdown",
   "metadata": {},
   "source": [
    "Commit and close the connection:"
   ]
  },
  {
   "cell_type": "code",
   "execution_count": null,
   "metadata": {},
   "outputs": [],
   "source": [
    "# Commit changes\n",
    "conn.commit()\n",
    "\n",
    "# Close the connection\n",
    "cursor.close()\n",
    "conn.close()"
   ]
  }
 ],
 "metadata": {
  "kernelspec": {
   "display_name": "Python 3",
   "language": "python",
   "name": "python3"
  },
  "language_info": {
   "codemirror_mode": {
    "name": "ipython",
    "version": 3
   },
   "file_extension": ".py",
   "mimetype": "text/x-python",
   "name": "python",
   "nbconvert_exporter": "python",
   "pygments_lexer": "ipython3",
   "version": "3.13.1"
  }
 },
 "nbformat": 4,
 "nbformat_minor": 2
}
