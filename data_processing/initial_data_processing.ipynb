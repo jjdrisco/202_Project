{
 "cells": [
  {
   "cell_type": "code",
   "execution_count": null,
   "metadata": {},
   "outputs": [],
   "source": [
    "import sys\n",
    "sys.path.append('../')"
   ]
  },
  {
   "cell_type": "code",
   "execution_count": null,
   "metadata": {},
   "outputs": [],
   "source": [
    "import pandas as pd\n",
    "\n",
    "# Load MOMA datasets\n",
    "moma_artists = pd.read_csv('data/Artists.csv')\n",
    "moma_artworks = pd.read_csv('data/Artworks.csv')\n",
    "\n",
    "# Load PainterPalette dataset\n",
    "painter_palette = pd.read_csv('data/PainterPalette.csv')"
   ]
  },
  {
   "cell_type": "code",
   "execution_count": 29,
   "metadata": {},
   "outputs": [
    {
     "data": {
      "text/plain": [
       "ConstituentID        0\n",
       "DisplayName          0\n",
       "ArtistBio         2205\n",
       "Nationality          0\n",
       "Gender               0\n",
       "BeginDate            0\n",
       "EndDate              0\n",
       "Wiki QID         12420\n",
       "ULAN             12736\n",
       "birth_year           0\n",
       "death_year           0\n",
       "dtype: int64"
      ]
     },
     "execution_count": 29,
     "metadata": {},
     "output_type": "execute_result"
    }
   ],
   "source": [
    "moma_artists.isna().sum()"
   ]
  },
  {
   "cell_type": "code",
   "execution_count": 30,
   "metadata": {},
   "outputs": [
    {
     "data": {
      "text/plain": [
       "Title                      0\n",
       "Artist                     0\n",
       "ConstituentID              0\n",
       "ArtistBio               3915\n",
       "Nationality                0\n",
       "BeginDate                968\n",
       "EndDate                  968\n",
       "Gender                     0\n",
       "Date                    1077\n",
       "Medium                  7781\n",
       "Dimensions              5386\n",
       "CreditLine              1318\n",
       "AccessionNumber            0\n",
       "Classification             0\n",
       "Department                 0\n",
       "DateAcquired            3977\n",
       "Cataloged                  0\n",
       "ObjectID                   0\n",
       "URL                    39600\n",
       "ImageURL               46817\n",
       "OnView                107728\n",
       "Circumference (cm)    108520\n",
       "Depth (cm)             97627\n",
       "Diameter (cm)         107646\n",
       "Height (cm)            18158\n",
       "Length (cm)           108077\n",
       "Weight (kg)           108285\n",
       "Width (cm)             18734\n",
       "Seat Height (cm)      108526\n",
       "Duration (sec.)       106793\n",
       "start_year                 0\n",
       "end_year                   0\n",
       "dtype: int64"
      ]
     },
     "execution_count": 30,
     "metadata": {},
     "output_type": "execute_result"
    }
   ],
   "source": [
    "moma_artworks.isna().sum()"
   ]
  },
  {
   "cell_type": "code",
   "execution_count": 31,
   "metadata": {},
   "outputs": [
    {
     "data": {
      "text/plain": [
       "artist                           0\n",
       "Nationality                  10361\n",
       "citizenship                      0\n",
       "gender                           0\n",
       "styles                       10361\n",
       "movement                         0\n",
       "Art500k_Movements             8013\n",
       "birth_place                      0\n",
       "death_place                      0\n",
       "birth_year                     692\n",
       "death_year                    2606\n",
       "FirstYear                     3161\n",
       "LastYear                      3161\n",
       "wikiart_pictures_count        7159\n",
       "locations                       93\n",
       "locations_with_years            93\n",
       "styles_extended               7159\n",
       "StylesCount                   7786\n",
       "StylesYears                   8012\n",
       "occupations                  10361\n",
       "PaintingsExhibitedAt          6318\n",
       "PaintingsExhibitedAtCount     6318\n",
       "PaintingSchool                   0\n",
       "Influencedby                 10361\n",
       "Influencedon                 10361\n",
       "Pupils                       10361\n",
       "Teachers                     10361\n",
       "FriendsandCoworkers          10361\n",
       "Contemporary                 10361\n",
       "ArtMovement                   8837\n",
       "Type                          9365\n",
       "dtype: int64"
      ]
     },
     "execution_count": 31,
     "metadata": {},
     "output_type": "execute_result"
    }
   ],
   "source": [
    "painter_palette.isna().sum()"
   ]
  },
  {
   "cell_type": "code",
   "execution_count": 32,
   "metadata": {},
   "outputs": [
    {
     "name": "stdout",
     "output_type": "stream",
     "text": [
      "10361\n"
     ]
    }
   ],
   "source": [
    "print(len(painter_palette.index))"
   ]
  },
  {
   "cell_type": "markdown",
   "metadata": {},
   "source": [
    "Clean MOMA Artists dataset:"
   ]
  },
  {
   "cell_type": "code",
   "execution_count": 25,
   "metadata": {},
   "outputs": [],
   "source": [
    "# Ensure ConstituentID is unique\n",
    "if moma_artists['ConstituentID'].duplicated().any():\n",
    "    moma_artists = moma_artists.drop_duplicates(subset=['ConstituentID'])"
   ]
  },
  {
   "cell_type": "code",
   "execution_count": 26,
   "metadata": {},
   "outputs": [],
   "source": [
    "# Extract birth and death years from ArtistBio\n",
    "moma_artists['birth_year'] = moma_artists['ArtistBio'].str.extract(r'(\\d{4})–').astype(float)  # Extract birth year\n",
    "moma_artists['death_year'] = moma_artists['ArtistBio'].str.extract(r'–(\\d{4})').astype(float)  # Extract death year\n",
    "\n",
    "# Handle missing values (e.g., if no birth or death year is found)\n",
    "moma_artists['Nationality'] = moma_artists['Nationality'].fillna('Unknown')\n",
    "moma_artists['Gender'] = moma_artists['Gender'].fillna('Unknown')\n",
    "moma_artists['birth_year'] = moma_artists['birth_year'].fillna(0).astype(int)\n",
    "moma_artists['death_year'] = moma_artists['death_year'].fillna(0).astype(int)\n",
    "\n",
    "# Save cleaned data\n",
    "moma_artists.to_csv('/tmp/cleaned_moma_artists.csv', index=False)"
   ]
  },
  {
   "cell_type": "markdown",
   "metadata": {},
   "source": [
    "Clean MOMA Artworks dataset:"
   ]
  },
  {
   "cell_type": "code",
   "execution_count": 27,
   "metadata": {},
   "outputs": [],
   "source": [
    "# Ensure `artwork_id` is unique\n",
    "if moma_artworks['Title'].duplicated().any():\n",
    "    moma_artworks = moma_artworks.drop_duplicates(subset=['Title'])\n",
    "\n",
    "# Convert ConstituentID column to string (to handle non-string values)\n",
    "moma_artworks['ConstituentID'] = moma_artworks['ConstituentID'].astype(str)\n",
    "\n",
    "# Split the ConstituentID column into a list of IDs\n",
    "moma_artworks['ConstituentID'] = moma_artworks['ConstituentID'].str.split(', ')\n",
    "\n",
    "# Explode the ConstituentID column\n",
    "moma_artworks = moma_artworks.explode('ConstituentID')\n",
    "\n",
    "# Convert ConstituentID to integers (handle any remaining invalid values)\n",
    "moma_artworks['ConstituentID'] = pd.to_numeric(moma_artworks['ConstituentID'], errors='coerce')\n",
    "\n",
    "# Extract start and end years from the date column\n",
    "moma_artworks['start_year'] = moma_artworks['Date'].str.extract(r'(\\d{4})').astype(float)  # Extract start year\n",
    "moma_artworks['end_year'] = moma_artworks['Date'].str.extract(r'-(\\d{2})').astype(float)  # Extract end year (last 2 digits)\n",
    "\n",
    "# Handle cases where the end year is only 2 digits (e.g., \"1976-77\")\n",
    "# Combine start year's century with end year's last 2 digits\n",
    "moma_artworks['end_year'] = (\n",
    "    moma_artworks['start_year'].astype(str).str[:2] +  # Get the first 2 digits of start year (century)\n",
    "    moma_artworks['end_year'].astype(str).str[-2:]     # Get the last 2 digits of end year\n",
    ")\n",
    "\n",
    "# Convert end_year to numeric, handling invalid values\n",
    "moma_artworks['end_year'] = pd.to_numeric(moma_artworks['end_year'], errors='coerce')\n",
    "\n",
    "# Handle missing values\n",
    "moma_artworks['Artist'] = moma_artworks['Artist'].fillna('Unknown')\n",
    "moma_artworks['ConstituentID'] = moma_artworks['ConstituentID'].fillna(0).astype(int)\n",
    "moma_artworks['Nationality'] = moma_artworks['Nationality'].fillna('Unknown')\n",
    "moma_artworks['Gender'] = moma_artworks['Gender'].fillna('Unknown')\n",
    "moma_artworks['Title'] = moma_artworks['Title'].fillna('Unknown')\n",
    "moma_artworks['start_year'] = moma_artworks['start_year'].fillna(0).astype(int)\n",
    "moma_artworks['end_year'] = moma_artworks['end_year'].fillna(0).astype(int)\n",
    "\n",
    "# Save cleaned data\n",
    "moma_artworks.to_csv('/tmp/cleaned_moma_artworks.csv', index=False)"
   ]
  },
  {
   "cell_type": "markdown",
   "metadata": {},
   "source": [
    "Clean PainterPalette dataset:"
   ]
  },
  {
   "cell_type": "code",
   "execution_count": 28,
   "metadata": {},
   "outputs": [],
   "source": [
    "# Handle missing or inconsistent data\n",
    "painter_palette['Nationality'] = painter_palette['Nationality'].fillna('Unknown')\n",
    "painter_palette['citizenship'] = painter_palette['Nationality'].fillna('Unknown')\n",
    "painter_palette['gender'] = painter_palette['Nationality'].fillna('Unknown')\n",
    "painter_palette['styles'] = painter_palette['styles'].fillna('Unknown')\n",
    "painter_palette['movement'] = painter_palette['movement'].fillna('Unknown')\n",
    "painter_palette['birth_place'] = painter_palette['birth_place'].fillna('Unknown')\n",
    "painter_palette['death_place'] = painter_palette['death_place'].fillna('Unknown')\n",
    "painter_palette['occupations'] = painter_palette['occupations'].fillna('Unknown')\n",
    "painter_palette['Influencedby'] = painter_palette['Influencedby'].fillna('Unknown')\n",
    "painter_palette['Influencedon'] = painter_palette['Influencedon'].fillna('Unknown')\n",
    "painter_palette['Pupils'] = painter_palette['Pupils'].fillna('Unknown')\n",
    "painter_palette['Teachers'] = painter_palette['Teachers'].fillna('Unknown')\n",
    "painter_palette['FriendsandCoworkers'] = painter_palette['FriendsandCoworkers'].fillna('Unknown')\n",
    "painter_palette['Contemporary'] = painter_palette['Contemporary'].fillna('Unknown')\n",
    "painter_palette['PaintingSchool'] = painter_palette['PaintingSchool'].fillna('Unknown')\n",
    "\n",
    "# Split multiple values into lists\n",
    "painter_palette['styles'] = painter_palette['styles'].str.split(',')\n",
    "painter_palette['Nationality'] = painter_palette['Nationality'].str.split(',')\n",
    "painter_palette['Influencedby'] = painter_palette['Influencedby'].str.split(',')\n",
    "painter_palette['Influencedon'] = painter_palette['Influencedon'].str.split(',')\n",
    "painter_palette['Pupils'] = painter_palette['Pupils'].str.split(',')\n",
    "painter_palette['Teachers'] = painter_palette['Teachers'].str.split(',')\n",
    "painter_palette['FriendsandCoworkers'] = painter_palette['FriendsandCoworkers'].str.split(',')\n",
    "painter_palette['Contemporary'] = painter_palette['Contemporary'].str.split(',')\n",
    "painter_palette['occupations'] = painter_palette['occupations'].str.split(',')\n",
    "\n",
    "# Save cleaned data\n",
    "painter_palette.to_csv('/tmp/cleaned_painter_palette.csv', index=False)"
   ]
  },
  {
   "cell_type": "markdown",
   "metadata": {},
   "source": [
    "Use psycopg2 to connect to PostgreSQL DB:"
   ]
  },
  {
   "cell_type": "code",
   "execution_count": null,
   "metadata": {},
   "outputs": [],
   "source": [
    "import psycopg2\n",
    "\n",
    "# Connect to Postgres\n",
    "conn = psycopg2.connect(\n",
    "    dbname=\"art\",\n",
    "    user=\"postgres\",\n",
    "    password=\"\",\n",
    "    host=\"localhost\",\n",
    "    port=\"5432\"\n",
    ")\n",
    "cursor = conn.cursor()"
   ]
  },
  {
   "cell_type": "code",
   "execution_count": null,
   "metadata": {},
   "outputs": [],
   "source": [
    "# Merge datasets\n",
    "\n",
    "# Combine MOMA Artists and PainterPalette datasets\n",
    "artists_combined = pd.merge(\n",
    "    moma_artists,\n",
    "    painter_palette,\n",
    "    left_on='name',\n",
    "    right_on='artist',\n",
    "    how='left'\n",
    ")\n",
    "\n",
    "# Insert values into Artists table\n",
    "for _, row in artists_combined.iterrows():\n",
    "    cursor.execute(\"\"\"\n",
    "        INSERT INTO Artists (artist_id, name, nationality, gender, birth_year, death_year, influenced_by, influenced_on, pupils, teachers, friends_and_coworkers, contemporary, art_movement, occupations, painting_school)\n",
    "        VALUES (%s, %s, %s, %s, %s, %s, %s, %s, %s, %s, %s, %s, %s, %s, %s)\n",
    "    \"\"\", (\n",
    "        row['artist_id'],\n",
    "        row['name'],\n",
    "        row['nationality'],\n",
    "        row['gender'],\n",
    "        row['birth_year'],\n",
    "        row['death_year'],\n",
    "        row['influenced_by'],\n",
    "        row['influenced_on'],\n",
    "        row['pupils'],\n",
    "        row['teachers'],\n",
    "        row['friends_and_coworkers'],\n",
    "        row['contemporary'],\n",
    "        row['art_movement'],\n",
    "        row['occupations'],\n",
    "        row['painting_school']\n",
    "    ))"
   ]
  },
  {
   "cell_type": "code",
   "execution_count": null,
   "metadata": {},
   "outputs": [],
   "source": [
    "# Insert values into Artworks table\n",
    "for _, row in moma_artworks.iterrows():\n",
    "    cursor.execute(\"\"\"\n",
    "        INSERT INTO Artworks (artwork_id, title, artist_id, date, medium, dimensions, acquisition_date, credit, catalogue, styles, movement, movements, styles_extended, styles_count, styles_years, paintings_exhibited_at, paintings_exhibited_at_count)\n",
    "        VALUES (%s, %s, %s, %s, %s, %s, %s, %s, %s, %s, %s, %s, %s, %s, %s, %s, %s)\n",
    "    \"\"\", (\n",
    "        row['artwork_id'],\n",
    "        row['title'],\n",
    "        row['artist_id'],\n",
    "        row['date'],\n",
    "        row['medium'],\n",
    "        row['dimensions'],\n",
    "        row['acquisition_date'],\n",
    "        row['credit'],\n",
    "        row['catalogue'],\n",
    "        row['styles'],\n",
    "        row['movement'],\n",
    "        row['movements'],\n",
    "        row['styles_extended'],\n",
    "        row['styles_count'],\n",
    "        row['styles_years'],\n",
    "        row['paintings_exhibited_at'],\n",
    "        row['paintings_exhibited_at_count']\n",
    "    ))"
   ]
  },
  {
   "cell_type": "code",
   "execution_count": null,
   "metadata": {},
   "outputs": [],
   "source": [
    "# Extract unique movements\n",
    "unique_movements = painter_palette[['movement', 'movements']].drop_duplicates()\n",
    "\n",
    "# Insert into ArtMovements table\n",
    "for _, row in unique_movements.iterrows():\n",
    "    cursor.execute(\"\"\"\n",
    "        INSERT INTO ArtMovements (movement_name, styles, movements)\n",
    "        VALUES (%s, %s, %s)\n",
    "    \"\"\", (\n",
    "        row['movement'],\n",
    "        row['styles'],\n",
    "        row['movements']\n",
    "    ))"
   ]
  },
  {
   "cell_type": "code",
   "execution_count": null,
   "metadata": {},
   "outputs": [],
   "source": [
    "# Extract unique countries\n",
    "unique_countries = painter_palette[['nationality', 'citizenship', 'birth_place', 'death_place', 'locations', 'locations_with_years']].drop_duplicates()\n",
    "\n",
    "# Insert into Countries table\n",
    "for _, row in unique_countries.iterrows():\n",
    "    cursor.execute(\"\"\"\n",
    "        INSERT INTO Countries (nationality, citizenship, birth_place, death_place, locations, locations_with_years)\n",
    "        VALUES (%s, %s, %s, %s, %s, %s)\n",
    "    \"\"\", (\n",
    "        row['nationality'],\n",
    "        row['citizenship'],\n",
    "        row['birth_place'],\n",
    "        row['death_place'],\n",
    "        row['locations'],\n",
    "        row['locations_with_years']\n",
    "    ))"
   ]
  },
  {
   "cell_type": "code",
   "execution_count": null,
   "metadata": {},
   "outputs": [],
   "source": [
    "# Extract unique exhibitions\n",
    "unique_exhibitions = painter_palette[['paintings_exhibited_at', 'paintings_exhibited_at_count']].drop_duplicates()\n",
    "\n",
    "# Insert into Exhibitions table\n",
    "for _, row in unique_exhibitions.iterrows():\n",
    "    cursor.execute(\"\"\"\n",
    "        INSERT INTO Exhibitions (paintings_exhibited_at, paintings_exhibited_at_count)\n",
    "        VALUES (%s, %s)\n",
    "    \"\"\", (\n",
    "        row['paintings_exhibited_at'],\n",
    "        row['paintings_exhibited_at_count']\n",
    "    ))"
   ]
  },
  {
   "cell_type": "code",
   "execution_count": null,
   "metadata": {},
   "outputs": [],
   "source": [
    "# Extract unique occupations\n",
    "unique_occupations = painter_palette['occupations'].explode().drop_duplicates()\n",
    "\n",
    "# Insert into Occupations table\n",
    "for occupation in unique_occupations:\n",
    "    cursor.execute(\"\"\"\n",
    "        INSERT INTO Occupations (name)\n",
    "        VALUES (%s)\n",
    "    \"\"\", (occupation,))"
   ]
  },
  {
   "cell_type": "markdown",
   "metadata": {},
   "source": [
    "Commit and close the connection:"
   ]
  },
  {
   "cell_type": "code",
   "execution_count": null,
   "metadata": {},
   "outputs": [],
   "source": [
    "# Commit changes\n",
    "conn.commit()\n",
    "\n",
    "# Close the connection\n",
    "cursor.close()\n",
    "conn.close()"
   ]
  }
 ],
 "metadata": {
  "kernelspec": {
   "display_name": "Python 3",
   "language": "python",
   "name": "python3"
  },
  "language_info": {
   "codemirror_mode": {
    "name": "ipython",
    "version": 3
   },
   "file_extension": ".py",
   "mimetype": "text/x-python",
   "name": "python",
   "nbconvert_exporter": "python",
   "pygments_lexer": "ipython3",
   "version": "3.13.1"
  }
 },
 "nbformat": 4,
 "nbformat_minor": 2
}
